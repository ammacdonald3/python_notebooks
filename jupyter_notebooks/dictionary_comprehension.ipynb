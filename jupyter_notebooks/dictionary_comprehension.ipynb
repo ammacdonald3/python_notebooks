{
 "cells": [
  {
   "cell_type": "markdown",
   "metadata": {},
   "source": [
    "# Dictionary Comprehension"
   ]
  },
  {
   "cell_type": "markdown",
   "metadata": {},
   "source": [
    "Dictionary comprehension allows us to easily manipulate the data in dictionaries without needing to write extensive loops. \n",
    "\n",
    "**Note: this functionality iterates over keys by default. To iterate over keys and values, use .items()**"
   ]
  },
  {
   "cell_type": "code",
   "execution_count": 1,
   "metadata": {},
   "outputs": [],
   "source": [
    "# Define a new dictionary - numbers\n",
    "numbers = dict(first=1, second=2, third=3)"
   ]
  },
  {
   "cell_type": "code",
   "execution_count": 2,
   "metadata": {},
   "outputs": [],
   "source": [
    "\n",
    "squared_numbers = {key: value ** 2 for key,value in numbers.items()}"
   ]
  },
  {
   "cell_type": "code",
   "execution_count": 3,
   "metadata": {},
   "outputs": [
    {
     "data": {
      "text/plain": [
       "{'first': 1, 'second': 4, 'third': 9}"
      ]
     },
     "execution_count": 3,
     "metadata": {},
     "output_type": "execute_result"
    }
   ],
   "source": [
    "# Print the new dictionary\n",
    "squared_numbers"
   ]
  },
  {
   "cell_type": "code",
   "execution_count": 4,
   "metadata": {},
   "outputs": [
    {
     "data": {
      "text/plain": [
       "{1: 1, 2: 4, 3: 9, 4: 16, 5: 25}"
      ]
     },
     "execution_count": 4,
     "metadata": {},
     "output_type": "execute_result"
    }
   ],
   "source": [
    "# Create a new dictionary that sets the key to the value in the list 'num' and the value to the squared value from 'num'\n",
    "{num: num ** 2 for num in [1,2,3,4,5]}"
   ]
  },
  {
   "cell_type": "code",
   "execution_count": 5,
   "metadata": {},
   "outputs": [],
   "source": [
    "# Create a new dictionary that assigns keys/values from two lists based on the character position\n",
    "string1 = 'ABC'\n",
    "string2 = '123'\n",
    "combo = {string1[i]: string2[i] for i in range(0,len(string1))}"
   ]
  },
  {
   "cell_type": "code",
   "execution_count": 7,
   "metadata": {},
   "outputs": [
    {
     "data": {
      "text/plain": [
       "{'A': '1', 'B': '2', 'C': '3'}"
      ]
     },
     "execution_count": 7,
     "metadata": {},
     "output_type": "execute_result"
    }
   ],
   "source": [
    "# Print the combined dictionary\n",
    "combo"
   ]
  },
  {
   "cell_type": "code",
   "execution_count": 17,
   "metadata": {},
   "outputs": [],
   "source": [
    "# Create a new dictionary - region\n",
    "region = {'city': 'DC', 'weather':'warm', 'population': 'large'}"
   ]
  },
  {
   "cell_type": "code",
   "execution_count": 18,
   "metadata": {},
   "outputs": [
    {
     "data": {
      "text/plain": [
       "{'city': 'DC', 'population': 'large', 'weather': 'warm'}"
      ]
     },
     "execution_count": 18,
     "metadata": {},
     "output_type": "execute_result"
    }
   ],
   "source": [
    "region"
   ]
  },
  {
   "cell_type": "code",
   "execution_count": 19,
   "metadata": {},
   "outputs": [],
   "source": [
    "upper_region = {k.upper():v.upper() for k,v in region.items()}"
   ]
  },
  {
   "cell_type": "code",
   "execution_count": 20,
   "metadata": {},
   "outputs": [
    {
     "data": {
      "text/plain": [
       "{'CITY': 'DC', 'POPULATION': 'LARGE', 'WEATHER': 'WARM'}"
      ]
     },
     "execution_count": 20,
     "metadata": {},
     "output_type": "execute_result"
    }
   ],
   "source": [
    "upper_region"
   ]
  },
  {
   "cell_type": "markdown",
   "metadata": {},
   "source": [
    "### Conditional Logic"
   ]
  },
  {
   "cell_type": "code",
   "execution_count": 21,
   "metadata": {},
   "outputs": [],
   "source": [
    "nums = [1,2,3,4]"
   ]
  },
  {
   "cell_type": "code",
   "execution_count": 26,
   "metadata": {},
   "outputs": [
    {
     "data": {
      "text/plain": [
       "{1: 'odd',\n",
       " 2: 'even',\n",
       " 3: 'odd',\n",
       " 4: 'even',\n",
       " 5: 'odd',\n",
       " 6: 'even',\n",
       " 7: 'odd',\n",
       " 8: 'even',\n",
       " 9: 'odd',\n",
       " 10: 'even',\n",
       " 11: 'odd',\n",
       " 12: 'even',\n",
       " 13: 'odd',\n",
       " 14: 'even',\n",
       " 15: 'odd',\n",
       " 16: 'even',\n",
       " 17: 'odd',\n",
       " 18: 'even',\n",
       " 19: 'odd',\n",
       " 20: 'even',\n",
       " 21: 'odd',\n",
       " 22: 'even',\n",
       " 23: 'odd',\n",
       " 24: 'even',\n",
       " 25: 'odd',\n",
       " 26: 'even',\n",
       " 27: 'odd',\n",
       " 28: 'even',\n",
       " 29: 'odd',\n",
       " 30: 'even',\n",
       " 31: 'odd',\n",
       " 32: 'even',\n",
       " 33: 'odd',\n",
       " 34: 'even',\n",
       " 35: 'odd',\n",
       " 36: 'even',\n",
       " 37: 'odd',\n",
       " 38: 'even',\n",
       " 39: 'odd',\n",
       " 40: 'even',\n",
       " 41: 'odd',\n",
       " 42: 'even',\n",
       " 43: 'odd',\n",
       " 44: 'even',\n",
       " 45: 'odd',\n",
       " 46: 'even',\n",
       " 47: 'odd',\n",
       " 48: 'even',\n",
       " 49: 'odd'}"
      ]
     },
     "execution_count": 26,
     "metadata": {},
     "output_type": "execute_result"
    }
   ],
   "source": [
    "{num:('even' if num % 2 == 0 else 'odd') for num in range(1,50)}"
   ]
  },
  {
   "cell_type": "code",
   "execution_count": null,
   "metadata": {},
   "outputs": [],
   "source": []
  }
 ],
 "metadata": {
  "kernelspec": {
   "display_name": "Python 3",
   "language": "python",
   "name": "python3"
  },
  "language_info": {
   "codemirror_mode": {
    "name": "ipython",
    "version": 3
   },
   "file_extension": ".py",
   "mimetype": "text/x-python",
   "name": "python",
   "nbconvert_exporter": "python",
   "pygments_lexer": "ipython3",
   "version": "3.6.4"
  }
 },
 "nbformat": 4,
 "nbformat_minor": 2
}
