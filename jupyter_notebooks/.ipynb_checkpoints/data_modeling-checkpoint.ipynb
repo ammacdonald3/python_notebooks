{
 "cells": [
  {
   "cell_type": "markdown",
   "metadata": {},
   "source": [
    "# Data Modeling"
   ]
  },
  {
   "cell_type": "markdown",
   "metadata": {},
   "source": [
    "In this exercise, we are going to replicate a Spotify playlist through data modeling. Because of the many different variables involved in a playlist, we will use a dictionary."
   ]
  },
  {
   "cell_type": "code",
   "execution_count": 2,
   "metadata": {},
   "outputs": [],
   "source": [
    "playlist = {\n",
    "    'title': 'Concentration Playlist',\n",
    "    'author': 'Andrew MacDonald',\n",
    "    'songs': []\n",
    "}"
   ]
  },
  {
   "cell_type": "markdown",
   "metadata": {},
   "source": [
    "In order to store the different variables about each song, we will nest a dictionary within the 'playlist' dictionary. Note that the 'artist' data is stored as a nested list to account for songs with multiple artists."
   ]
  },
  {
   "cell_type": "code",
   "execution_count": 4,
   "metadata": {},
   "outputs": [],
   "source": [
    "playlist = {\n",
    "    'title': 'Concentration Playlist',\n",
    "    'author': 'Andrew MacDonald',\n",
    "    'songs': [\n",
    "        {\n",
    "            'title': 'song1',\n",
    "            'artist': ['artist1'],\n",
    "            'duration': 2.5\n",
    "        },\n",
    "        {\n",
    "            'title': 'song2',\n",
    "            'artist': ['artist2', 'artist3'],\n",
    "            'duration': 4.3\n",
    "        },\n",
    "        {\n",
    "            'title': 'song3',\n",
    "            'artist': ['artist2'],\n",
    "            'duration': 3\n",
    "        }\n",
    "    ]\n",
    "}"
   ]
  },
  {
   "cell_type": "code",
   "execution_count": 5,
   "metadata": {},
   "outputs": [
    {
     "data": {
      "text/plain": [
       "{'author': 'Andrew MacDonald',\n",
       " 'songs': [{'artist': ['artist1'], 'duration': 2.5, 'title': 'song1'},\n",
       "  {'artist': ['artist2', 'artist3'], 'duration': 4.3, 'title': 'song2'},\n",
       "  {'artist': ['artist2'], 'duration': 3, 'title': 'song3'}],\n",
       " 'title': 'Concentration Playlist'}"
      ]
     },
     "execution_count": 5,
     "metadata": {},
     "output_type": "execute_result"
    }
   ],
   "source": [
    "playlist"
   ]
  },
  {
   "cell_type": "markdown",
   "metadata": {},
   "source": [
    "With this nested dictionary, we can now use functions to manipulate the data in different ways."
   ]
  },
  {
   "cell_type": "code",
   "execution_count": 6,
   "metadata": {},
   "outputs": [
    {
     "name": "stdout",
     "output_type": "stream",
     "text": [
      "song1\n",
      "song2\n",
      "song3\n"
     ]
    }
   ],
   "source": [
    "for song in playlist['songs']:\n",
    "    print(song['title'])"
   ]
  },
  {
   "cell_type": "code",
   "execution_count": 7,
   "metadata": {},
   "outputs": [],
   "source": [
    "total_length = 0\n",
    "for song in playlist['songs']:\n",
    "    total_length += song['duration']"
   ]
  },
  {
   "cell_type": "code",
   "execution_count": 8,
   "metadata": {},
   "outputs": [
    {
     "data": {
      "text/plain": [
       "9.8"
      ]
     },
     "execution_count": 8,
     "metadata": {},
     "output_type": "execute_result"
    }
   ],
   "source": [
    "total_length"
   ]
  },
  {
   "cell_type": "code",
   "execution_count": null,
   "metadata": {},
   "outputs": [],
   "source": []
  }
 ],
 "metadata": {
  "kernelspec": {
   "display_name": "Python 3",
   "language": "python",
   "name": "python3"
  },
  "language_info": {
   "codemirror_mode": {
    "name": "ipython",
    "version": 3
   },
   "file_extension": ".py",
   "mimetype": "text/x-python",
   "name": "python",
   "nbconvert_exporter": "python",
   "pygments_lexer": "ipython3",
   "version": "3.6.4"
  }
 },
 "nbformat": 4,
 "nbformat_minor": 2
}
